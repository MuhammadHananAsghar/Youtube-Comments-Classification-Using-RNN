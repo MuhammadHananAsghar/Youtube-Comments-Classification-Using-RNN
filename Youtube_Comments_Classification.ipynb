{
  "nbformat": 4,
  "nbformat_minor": 0,
  "metadata": {
    "colab": {
      "name": "Youtube Comments Classification.ipynb",
      "provenance": [],
      "collapsed_sections": []
    },
    "kernelspec": {
      "display_name": "Python 3",
      "name": "python3"
    }
  },
  "cells": [
    {
      "cell_type": "markdown",
      "metadata": {
        "id": "lJlrD9vfxWwt"
      },
      "source": [
        "#**Implemented By Muhammad Hanan Asghar**"
      ]
    },
    {
      "cell_type": "code",
      "metadata": {
        "colab": {
          "resources": {
            "http://localhost:8080/nbextensions/google.colab/files.js": {
              "data": "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",
              "headers": [
                [
                  "content-type",
                  "application/javascript"
                ]
              ],
              "ok": true,
              "status": 200,
              "status_text": "OK"
            }
          },
          "base_uri": "https://localhost:8080/",
          "height": 252
        },
        "id": "j4Y55dXYFPhA",
        "outputId": "8a1f1f7a-5d2c-4a0d-c636-73109728bd12"
      },
      "source": [
        "from google.colab import files\n",
        "\n",
        "uploaded = files.upload()\n",
        "\n",
        "for fn in uploaded.keys():\n",
        "  print('User uploaded file \"{name}\" with length {length} bytes'.format(\n",
        "      name=fn, length=len(uploaded[fn])))"
      ],
      "execution_count": null,
      "outputs": [
        {
          "output_type": "display_data",
          "data": {
            "text/html": [
              "\n",
              "     <input type=\"file\" id=\"files-c47f9793-74bf-4f8c-8f5c-357dfcc34765\" name=\"files[]\" multiple disabled\n",
              "        style=\"border:none\" />\n",
              "     <output id=\"result-c47f9793-74bf-4f8c-8f5c-357dfcc34765\">\n",
              "      Upload widget is only available when the cell has been executed in the\n",
              "      current browser session. Please rerun this cell to enable.\n",
              "      </output>\n",
              "      <script src=\"/nbextensions/google.colab/files.js\"></script> "
            ],
            "text/plain": [
              "<IPython.core.display.HTML object>"
            ]
          },
          "metadata": {
            "tags": []
          }
        },
        {
          "output_type": "stream",
          "text": [
            "Saving comments_4.txt to comments_4.txt\n",
            "Saving comments_3.txt to comments_3.txt\n",
            "Saving comments_2.txt to comments_2.txt\n",
            "Saving comments.txt to comments.txt\n",
            "User uploaded file \"comments_4.txt\" with length 2020 bytes\n",
            "User uploaded file \"comments_3.txt\" with length 130613 bytes\n",
            "User uploaded file \"comments_2.txt\" with length 149541 bytes\n",
            "User uploaded file \"comments.txt\" with length 137234 bytes\n"
          ],
          "name": "stdout"
        }
      ]
    },
    {
      "cell_type": "code",
      "metadata": {
        "id": "_oPRuEiW-w6g"
      },
      "source": [
        "import string\n",
        "import json\n",
        "import re\n",
        "import csv"
      ],
      "execution_count": 174,
      "outputs": []
    },
    {
      "cell_type": "code",
      "metadata": {
        "id": "4tJ3fP4cFP46"
      },
      "source": [
        "def open_FILE(filename='/content/comments.txt'):\n",
        "  return_DATA = []\n",
        "  with open(filename, \"r\") as txt_file:\n",
        "    comments = txt_file.read()\n",
        "  txt_file.close()\n",
        "  comments = [x for x in comments.split(\"\\n\") if x.strip()]\n",
        "  for comment in comments:\n",
        "    comment = json.loads(comment)\n",
        "    cmt = list(comment.values())\n",
        "    return_DATA.append(cmt[0])\n",
        "  return return_DATA\n",
        "\n",
        "comments_DATA = open_FILE()\n",
        "\n",
        "\n",
        "def clean_punctuations(data):\n",
        "  table = str.maketrans('', '', string.punctuation)\n",
        "  desc = data.split()\n",
        "  desc = [word.lower() for word in desc]\n",
        "  desc = [w.translate(table) for w in desc]\n",
        "  desc = [word for word in desc if len(word)>1]\n",
        "  desc = [word for word in desc if word.isalpha()]\n",
        "  data = ' '.join(desc)\n",
        "  return data\n",
        "def deEmojify(text):\n",
        "    regrex_pattern = re.compile(pattern = \"[\"\n",
        "        u\"\\U0001F600-\\U0001F64F\"  \n",
        "        u\"\\U0001F300-\\U0001F5FF\"  \n",
        "        u\"\\U0001F680-\\U0001F6FF\"  \n",
        "        u\"\\U0001F1E0-\\U0001F1FF\"\n",
        "                           \"]+\", flags = re.UNICODE)\n",
        "    return regrex_pattern.sub(r'',text)\n",
        "\n",
        "\n",
        "comments = []\n",
        "for comt in comments_DATA:\n",
        "  cmt = clean_punctuations(deEmojify(comt))\n",
        "  blob = TextBlob(cmt)\n",
        "  if blob.sentiment.polarity < 0:\n",
        "    comments.append([\"Negative\",cmt])\n",
        "  elif blob.sentiment.polarity == 0:\n",
        "    comments.append([\"Neutral\",cmt])\n",
        "  elif (blob.sentiment.polarity > 0) & (blob.sentiment.polarity <= 1):\n",
        "    comments.append([\"Positive\",cmt])\n",
        "\n",
        "\n",
        "with open('comments.csv', 'w', newline='') as file:\n",
        "  writer = csv.writer(file)\n",
        "  writer.writerow([\"Sentiment\", \"Comment\"])\n",
        "  for x in comments:\n",
        "    if (x[0] != '') and (x[1] != ''):\n",
        "      writer.writerow([x[0], x[1]])"
      ],
      "execution_count": null,
      "outputs": []
    },
    {
      "cell_type": "code",
      "metadata": {
        "id": "z7aJolHJBj9U"
      },
      "source": [
        "def open_FILE(filename='/content/comments_2.txt'):\n",
        "  return_DATA = []\n",
        "  with open(filename, \"r\") as txt_file:\n",
        "    comments = txt_file.read()\n",
        "  txt_file.close()\n",
        "  comments = [x for x in comments.split(\"\\n\") if x.strip()]\n",
        "  for comment in comments:\n",
        "    comment = json.loads(comment)\n",
        "    cmt = list(comment.values())\n",
        "    return_DATA.append(cmt[0])\n",
        "  return return_DATA\n",
        "\n",
        "comments_DATA = open_FILE()\n",
        "\n",
        "\n",
        "def clean_punctuations(data):\n",
        "  table = str.maketrans('', '', string.punctuation)\n",
        "  desc = data.split()\n",
        "  desc = [word.lower() for word in desc]\n",
        "  desc = [w.translate(table) for w in desc]\n",
        "  desc = [word for word in desc if len(word)>1]\n",
        "  desc = [word for word in desc if word.isalpha()]\n",
        "  data = ' '.join(desc)\n",
        "  return data\n",
        "def deEmojify(text):\n",
        "    regrex_pattern = re.compile(pattern = \"[\"\n",
        "        u\"\\U0001F600-\\U0001F64F\"  \n",
        "        u\"\\U0001F300-\\U0001F5FF\"  \n",
        "        u\"\\U0001F680-\\U0001F6FF\"  \n",
        "        u\"\\U0001F1E0-\\U0001F1FF\"\n",
        "                           \"]+\", flags = re.UNICODE)\n",
        "    return regrex_pattern.sub(r'',text)\n",
        "\n",
        "\n",
        "comments = []\n",
        "for comt in comments_DATA:\n",
        "  cmt = clean_punctuations(deEmojify(comt))\n",
        "  blob = TextBlob(cmt)\n",
        "  if blob.sentiment.polarity < 0:\n",
        "    comments.append([\"Negative\",cmt])\n",
        "  elif blob.sentiment.polarity == 0:\n",
        "    comments.append([\"Neutral\",cmt])\n",
        "  elif (blob.sentiment.polarity > 0) & (blob.sentiment.polarity <= 1):\n",
        "    comments.append([\"Positive\",cmt])\n",
        "\n",
        "\n",
        "with open('comments_two.csv', 'w', newline='') as file:\n",
        "  writer = csv.writer(file)\n",
        "  writer.writerow([\"Sentiment\", \"Comment\"])\n",
        "  for x in comments:\n",
        "    if (x[0] != '') and (x[1] != ''):\n",
        "      writer.writerow([x[0], x[1]])"
      ],
      "execution_count": null,
      "outputs": []
    },
    {
      "cell_type": "code",
      "metadata": {
        "id": "vD4pmZMqBk-Q"
      },
      "source": [
        "def open_FILE(filename='/content/comments_3.txt'):\n",
        "  return_DATA = []\n",
        "  with open(filename, \"r\") as txt_file:\n",
        "    comments = txt_file.read()\n",
        "  txt_file.close()\n",
        "  comments = [x for x in comments.split(\"\\n\") if x.strip()]\n",
        "  for comment in comments:\n",
        "    comment = json.loads(comment)\n",
        "    cmt = list(comment.values())\n",
        "    return_DATA.append(cmt[0])\n",
        "  return return_DATA\n",
        "\n",
        "comments_DATA = open_FILE()\n",
        "\n",
        "\n",
        "def clean_punctuations(data):\n",
        "  table = str.maketrans('', '', string.punctuation)\n",
        "  desc = data.split()\n",
        "  desc = [word.lower() for word in desc]\n",
        "  desc = [w.translate(table) for w in desc]\n",
        "  desc = [word for word in desc if len(word)>1]\n",
        "  desc = [word for word in desc if word.isalpha()]\n",
        "  data = ' '.join(desc)\n",
        "  return data\n",
        "def deEmojify(text):\n",
        "    regrex_pattern = re.compile(pattern = \"[\"\n",
        "        u\"\\U0001F600-\\U0001F64F\"  \n",
        "        u\"\\U0001F300-\\U0001F5FF\"  \n",
        "        u\"\\U0001F680-\\U0001F6FF\"  \n",
        "        u\"\\U0001F1E0-\\U0001F1FF\"\n",
        "                           \"]+\", flags = re.UNICODE)\n",
        "    return regrex_pattern.sub(r'',text)\n",
        "\n",
        "\n",
        "comments = []\n",
        "for comt in comments_DATA:\n",
        "  cmt = clean_punctuations(deEmojify(comt))\n",
        "  blob = TextBlob(cmt)\n",
        "  if blob.sentiment.polarity < 0:\n",
        "    comments.append([\"Negative\",cmt])\n",
        "  elif blob.sentiment.polarity == 0:\n",
        "    comments.append([\"Neutral\",cmt])\n",
        "  elif (blob.sentiment.polarity > 0) & (blob.sentiment.polarity <= 1):\n",
        "    comments.append([\"Positive\",cmt])\n",
        "\n",
        "\n",
        "with open('comments_three.csv', 'w', newline='') as file:\n",
        "  writer = csv.writer(file)\n",
        "  writer.writerow([\"Sentiment\", \"Comment\"])\n",
        "  for x in comments:\n",
        "    if (x[0] != '') and (x[1] != ''):\n",
        "      writer.writerow([x[0], x[1]])"
      ],
      "execution_count": null,
      "outputs": []
    },
    {
      "cell_type": "code",
      "metadata": {
        "id": "ohsBrknXCcIJ"
      },
      "source": [
        "def open_FILE(filename='/content/comments_4.txt'):\n",
        "  return_DATA = []\n",
        "  with open(filename, \"r\") as txt_file:\n",
        "    comments = txt_file.read()\n",
        "  txt_file.close()\n",
        "  comments = [x for x in comments.split(\"\\n\") if x.strip()]\n",
        "  for comment in comments:\n",
        "    comment = json.loads(comment)\n",
        "    cmt = list(comment.values())\n",
        "    return_DATA.append(cmt[0])\n",
        "  return return_DATA\n",
        "\n",
        "comments_DATA = open_FILE()\n",
        "\n",
        "\n",
        "def clean_punctuations(data):\n",
        "  table = str.maketrans('', '', string.punctuation)\n",
        "  desc = data.split()\n",
        "  desc = [word.lower() for word in desc]\n",
        "  desc = [w.translate(table) for w in desc]\n",
        "  desc = [word for word in desc if len(word)>1]\n",
        "  desc = [word for word in desc if word.isalpha()]\n",
        "  data = ' '.join(desc)\n",
        "  return data\n",
        "def deEmojify(text):\n",
        "    regrex_pattern = re.compile(pattern = \"[\"\n",
        "        u\"\\U0001F600-\\U0001F64F\"  \n",
        "        u\"\\U0001F300-\\U0001F5FF\"  \n",
        "        u\"\\U0001F680-\\U0001F6FF\"  \n",
        "        u\"\\U0001F1E0-\\U0001F1FF\"\n",
        "                           \"]+\", flags = re.UNICODE)\n",
        "    return regrex_pattern.sub(r'',text)\n",
        "\n",
        "\n",
        "comments = []\n",
        "for comt in comments_DATA:\n",
        "  cmt = clean_punctuations(deEmojify(comt))\n",
        "  blob = TextBlob(cmt)\n",
        "  if blob.sentiment.polarity < 0:\n",
        "    comments.append([\"Negative\",cmt])\n",
        "  elif blob.sentiment.polarity == 0:\n",
        "    comments.append([\"Neutral\",cmt])\n",
        "  elif (blob.sentiment.polarity > 0) & (blob.sentiment.polarity <= 1):\n",
        "    comments.append([\"Positive\",cmt])\n",
        "\n",
        "\n",
        "with open('comments_four.csv', 'w', newline='') as file:\n",
        "  writer = csv.writer(file)\n",
        "  writer.writerow([\"Sentiment\", \"Comment\"])\n",
        "  for x in comments:\n",
        "    if (x[0] != '') and (x[1] != ''):\n",
        "      writer.writerow([x[0], x[1]])"
      ],
      "execution_count": null,
      "outputs": []
    },
    {
      "cell_type": "code",
      "metadata": {
        "colab": {
          "base_uri": "https://localhost:8080/",
          "height": 206
        },
        "id": "KgbKodOHCfha",
        "outputId": "73b2677e-79d6-4a53-ce30-975ec00a2e68"
      },
      "source": [
        "import pandas as pd\n",
        "\n",
        "df_1 = pd.read_csv(\"comments.csv\")\n",
        "df_1.head()"
      ],
      "execution_count": null,
      "outputs": [
        {
          "output_type": "execute_result",
          "data": {
            "text/html": [
              "<div>\n",
              "<style scoped>\n",
              "    .dataframe tbody tr th:only-of-type {\n",
              "        vertical-align: middle;\n",
              "    }\n",
              "\n",
              "    .dataframe tbody tr th {\n",
              "        vertical-align: top;\n",
              "    }\n",
              "\n",
              "    .dataframe thead th {\n",
              "        text-align: right;\n",
              "    }\n",
              "</style>\n",
              "<table border=\"1\" class=\"dataframe\">\n",
              "  <thead>\n",
              "    <tr style=\"text-align: right;\">\n",
              "      <th></th>\n",
              "      <th>Sentiment</th>\n",
              "      <th>Comment</th>\n",
              "    </tr>\n",
              "  </thead>\n",
              "  <tbody>\n",
              "    <tr>\n",
              "      <th>0</th>\n",
              "      <td>Positive</td>\n",
              "      <td>if youre watching this congratulations youre t...</td>\n",
              "    </tr>\n",
              "    <tr>\n",
              "      <th>1</th>\n",
              "      <td>Positive</td>\n",
              "      <td>when you only have hours to study you waste th...</td>\n",
              "    </tr>\n",
              "    <tr>\n",
              "      <th>2</th>\n",
              "      <td>Negative</td>\n",
              "      <td>stop when tired stop when done</td>\n",
              "    </tr>\n",
              "    <tr>\n",
              "      <th>3</th>\n",
              "      <td>Neutral</td>\n",
              "      <td>my dad always told me if you dont believe in y...</td>\n",
              "    </tr>\n",
              "    <tr>\n",
              "      <th>4</th>\n",
              "      <td>Positive</td>\n",
              "      <td>me when am years old want to be doctor im stil...</td>\n",
              "    </tr>\n",
              "  </tbody>\n",
              "</table>\n",
              "</div>"
            ],
            "text/plain": [
              "  Sentiment                                            Comment\n",
              "0  Positive  if youre watching this congratulations youre t...\n",
              "1  Positive  when you only have hours to study you waste th...\n",
              "2  Negative                     stop when tired stop when done\n",
              "3   Neutral  my dad always told me if you dont believe in y...\n",
              "4  Positive  me when am years old want to be doctor im stil..."
            ]
          },
          "metadata": {
            "tags": []
          },
          "execution_count": 21
        }
      ]
    },
    {
      "cell_type": "code",
      "metadata": {
        "colab": {
          "base_uri": "https://localhost:8080/",
          "height": 206
        },
        "id": "UJCRU90jCmP0",
        "outputId": "40bba630-59bd-47eb-fb32-1fb390cb5fb0"
      },
      "source": [
        "df_2 = pd.read_csv(\"comments_two.csv\")\n",
        "df_2.head()"
      ],
      "execution_count": null,
      "outputs": [
        {
          "output_type": "execute_result",
          "data": {
            "text/html": [
              "<div>\n",
              "<style scoped>\n",
              "    .dataframe tbody tr th:only-of-type {\n",
              "        vertical-align: middle;\n",
              "    }\n",
              "\n",
              "    .dataframe tbody tr th {\n",
              "        vertical-align: top;\n",
              "    }\n",
              "\n",
              "    .dataframe thead th {\n",
              "        text-align: right;\n",
              "    }\n",
              "</style>\n",
              "<table border=\"1\" class=\"dataframe\">\n",
              "  <thead>\n",
              "    <tr style=\"text-align: right;\">\n",
              "      <th></th>\n",
              "      <th>Sentiment</th>\n",
              "      <th>Comment</th>\n",
              "    </tr>\n",
              "  </thead>\n",
              "  <tbody>\n",
              "    <tr>\n",
              "      <th>0</th>\n",
              "      <td>Neutral</td>\n",
              "      <td>have not always stick with god but he has alwa...</td>\n",
              "    </tr>\n",
              "    <tr>\n",
              "      <th>1</th>\n",
              "      <td>Negative</td>\n",
              "      <td>stick with god sometimes could be hard to do b...</td>\n",
              "    </tr>\n",
              "    <tr>\n",
              "      <th>2</th>\n",
              "      <td>Neutral</td>\n",
              "      <td>charles is my name im in chicago at recovering...</td>\n",
              "    </tr>\n",
              "    <tr>\n",
              "      <th>3</th>\n",
              "      <td>Negative</td>\n",
              "      <td>my family is so broke right now due to the pan...</td>\n",
              "    </tr>\n",
              "    <tr>\n",
              "      <th>4</th>\n",
              "      <td>Positive</td>\n",
              "      <td>dreame is not what you see in sleep dream is s...</td>\n",
              "    </tr>\n",
              "  </tbody>\n",
              "</table>\n",
              "</div>"
            ],
            "text/plain": [
              "  Sentiment                                            Comment\n",
              "0   Neutral  have not always stick with god but he has alwa...\n",
              "1  Negative  stick with god sometimes could be hard to do b...\n",
              "2   Neutral  charles is my name im in chicago at recovering...\n",
              "3  Negative  my family is so broke right now due to the pan...\n",
              "4  Positive  dreame is not what you see in sleep dream is s..."
            ]
          },
          "metadata": {
            "tags": []
          },
          "execution_count": 22
        }
      ]
    },
    {
      "cell_type": "code",
      "metadata": {
        "colab": {
          "base_uri": "https://localhost:8080/",
          "height": 206
        },
        "id": "D5gHGv_YCsnM",
        "outputId": "e2c56f66-cf7b-4fd6-8b72-35a6efae48bb"
      },
      "source": [
        "df_3 = pd.read_csv(\"comments_three.csv\")\n",
        "df_3.head()"
      ],
      "execution_count": null,
      "outputs": [
        {
          "output_type": "execute_result",
          "data": {
            "text/html": [
              "<div>\n",
              "<style scoped>\n",
              "    .dataframe tbody tr th:only-of-type {\n",
              "        vertical-align: middle;\n",
              "    }\n",
              "\n",
              "    .dataframe tbody tr th {\n",
              "        vertical-align: top;\n",
              "    }\n",
              "\n",
              "    .dataframe thead th {\n",
              "        text-align: right;\n",
              "    }\n",
              "</style>\n",
              "<table border=\"1\" class=\"dataframe\">\n",
              "  <thead>\n",
              "    <tr style=\"text-align: right;\">\n",
              "      <th></th>\n",
              "      <th>Sentiment</th>\n",
              "      <th>Comment</th>\n",
              "    </tr>\n",
              "  </thead>\n",
              "  <tbody>\n",
              "    <tr>\n",
              "      <th>0</th>\n",
              "      <td>Neutral</td>\n",
              "      <td>no wonder apple stopped giving chargers in the...</td>\n",
              "    </tr>\n",
              "    <tr>\n",
              "      <th>1</th>\n",
              "      <td>Neutral</td>\n",
              "      <td>dont go ahead and try this at home bruh you ta...</td>\n",
              "    </tr>\n",
              "    <tr>\n",
              "      <th>2</th>\n",
              "      <td>Positive</td>\n",
              "      <td>ok everyone is talking about the phone explodi...</td>\n",
              "    </tr>\n",
              "    <tr>\n",
              "      <th>3</th>\n",
              "      <td>Neutral</td>\n",
              "      <td>dont try this at home alright finna try it in ...</td>\n",
              "    </tr>\n",
              "    <tr>\n",
              "      <th>4</th>\n",
              "      <td>Neutral</td>\n",
              "      <td>this guy is the reason apple is selling charge...</td>\n",
              "    </tr>\n",
              "  </tbody>\n",
              "</table>\n",
              "</div>"
            ],
            "text/plain": [
              "  Sentiment                                            Comment\n",
              "0   Neutral  no wonder apple stopped giving chargers in the...\n",
              "1   Neutral  dont go ahead and try this at home bruh you ta...\n",
              "2  Positive  ok everyone is talking about the phone explodi...\n",
              "3   Neutral  dont try this at home alright finna try it in ...\n",
              "4   Neutral  this guy is the reason apple is selling charge..."
            ]
          },
          "metadata": {
            "tags": []
          },
          "execution_count": 23
        }
      ]
    },
    {
      "cell_type": "code",
      "metadata": {
        "colab": {
          "base_uri": "https://localhost:8080/",
          "height": 206
        },
        "id": "Da9jEHq9CvQa",
        "outputId": "c6aa0e8d-ee66-4d4f-84ee-2fb2f4adb47a"
      },
      "source": [
        "df_4 = pd.read_csv(\"comments_four.csv\")\n",
        "df_4.head()"
      ],
      "execution_count": null,
      "outputs": [
        {
          "output_type": "execute_result",
          "data": {
            "text/html": [
              "<div>\n",
              "<style scoped>\n",
              "    .dataframe tbody tr th:only-of-type {\n",
              "        vertical-align: middle;\n",
              "    }\n",
              "\n",
              "    .dataframe tbody tr th {\n",
              "        vertical-align: top;\n",
              "    }\n",
              "\n",
              "    .dataframe thead th {\n",
              "        text-align: right;\n",
              "    }\n",
              "</style>\n",
              "<table border=\"1\" class=\"dataframe\">\n",
              "  <thead>\n",
              "    <tr style=\"text-align: right;\">\n",
              "      <th></th>\n",
              "      <th>Sentiment</th>\n",
              "      <th>Comment</th>\n",
              "    </tr>\n",
              "  </thead>\n",
              "  <tbody>\n",
              "    <tr>\n",
              "      <th>0</th>\n",
              "      <td>Positive</td>\n",
              "      <td>just sleep arnold is the best</td>\n",
              "    </tr>\n",
              "    <tr>\n",
              "      <th>1</th>\n",
              "      <td>Negative</td>\n",
              "      <td>one random person who like this will become mi...</td>\n",
              "    </tr>\n",
              "    <tr>\n",
              "      <th>2</th>\n",
              "      <td>Positive</td>\n",
              "      <td>to live is the rarest thing in the world most ...</td>\n",
              "    </tr>\n",
              "    <tr>\n",
              "      <th>3</th>\n",
              "      <td>Negative</td>\n",
              "      <td>everyone is writting some random quotes so let...</td>\n",
              "    </tr>\n",
              "    <tr>\n",
              "      <th>4</th>\n",
              "      <td>Positive</td>\n",
              "      <td>hours every year is massive gap the gap that c...</td>\n",
              "    </tr>\n",
              "  </tbody>\n",
              "</table>\n",
              "</div>"
            ],
            "text/plain": [
              "  Sentiment                                            Comment\n",
              "0  Positive                      just sleep arnold is the best\n",
              "1  Negative  one random person who like this will become mi...\n",
              "2  Positive  to live is the rarest thing in the world most ...\n",
              "3  Negative  everyone is writting some random quotes so let...\n",
              "4  Positive  hours every year is massive gap the gap that c..."
            ]
          },
          "metadata": {
            "tags": []
          },
          "execution_count": 24
        }
      ]
    },
    {
      "cell_type": "code",
      "metadata": {
        "colab": {
          "base_uri": "https://localhost:8080/",
          "height": 206
        },
        "id": "RqlAPvfQCybT",
        "outputId": "6e8c8e5e-6077-40c9-c70c-f9fe6f4a67e2"
      },
      "source": [
        "COMMENTS_DF = df_1.append(df_2)\n",
        "COMMENTS_DF.head()"
      ],
      "execution_count": null,
      "outputs": [
        {
          "output_type": "execute_result",
          "data": {
            "text/html": [
              "<div>\n",
              "<style scoped>\n",
              "    .dataframe tbody tr th:only-of-type {\n",
              "        vertical-align: middle;\n",
              "    }\n",
              "\n",
              "    .dataframe tbody tr th {\n",
              "        vertical-align: top;\n",
              "    }\n",
              "\n",
              "    .dataframe thead th {\n",
              "        text-align: right;\n",
              "    }\n",
              "</style>\n",
              "<table border=\"1\" class=\"dataframe\">\n",
              "  <thead>\n",
              "    <tr style=\"text-align: right;\">\n",
              "      <th></th>\n",
              "      <th>Sentiment</th>\n",
              "      <th>Comment</th>\n",
              "    </tr>\n",
              "  </thead>\n",
              "  <tbody>\n",
              "    <tr>\n",
              "      <th>0</th>\n",
              "      <td>Positive</td>\n",
              "      <td>if youre watching this congratulations youre t...</td>\n",
              "    </tr>\n",
              "    <tr>\n",
              "      <th>1</th>\n",
              "      <td>Positive</td>\n",
              "      <td>when you only have hours to study you waste th...</td>\n",
              "    </tr>\n",
              "    <tr>\n",
              "      <th>2</th>\n",
              "      <td>Negative</td>\n",
              "      <td>stop when tired stop when done</td>\n",
              "    </tr>\n",
              "    <tr>\n",
              "      <th>3</th>\n",
              "      <td>Neutral</td>\n",
              "      <td>my dad always told me if you dont believe in y...</td>\n",
              "    </tr>\n",
              "    <tr>\n",
              "      <th>4</th>\n",
              "      <td>Positive</td>\n",
              "      <td>me when am years old want to be doctor im stil...</td>\n",
              "    </tr>\n",
              "  </tbody>\n",
              "</table>\n",
              "</div>"
            ],
            "text/plain": [
              "  Sentiment                                            Comment\n",
              "0  Positive  if youre watching this congratulations youre t...\n",
              "1  Positive  when you only have hours to study you waste th...\n",
              "2  Negative                     stop when tired stop when done\n",
              "3   Neutral  my dad always told me if you dont believe in y...\n",
              "4  Positive  me when am years old want to be doctor im stil..."
            ]
          },
          "metadata": {
            "tags": []
          },
          "execution_count": 25
        }
      ]
    },
    {
      "cell_type": "code",
      "metadata": {
        "colab": {
          "base_uri": "https://localhost:8080/",
          "height": 206
        },
        "id": "jU_ov8zFC68B",
        "outputId": "10802e47-6629-4b16-b409-cd103667e23a"
      },
      "source": [
        "COMMENTS_DF = COMMENTS_DF.append(df_3)\n",
        "COMMENTS_DF.head()"
      ],
      "execution_count": null,
      "outputs": [
        {
          "output_type": "execute_result",
          "data": {
            "text/html": [
              "<div>\n",
              "<style scoped>\n",
              "    .dataframe tbody tr th:only-of-type {\n",
              "        vertical-align: middle;\n",
              "    }\n",
              "\n",
              "    .dataframe tbody tr th {\n",
              "        vertical-align: top;\n",
              "    }\n",
              "\n",
              "    .dataframe thead th {\n",
              "        text-align: right;\n",
              "    }\n",
              "</style>\n",
              "<table border=\"1\" class=\"dataframe\">\n",
              "  <thead>\n",
              "    <tr style=\"text-align: right;\">\n",
              "      <th></th>\n",
              "      <th>Sentiment</th>\n",
              "      <th>Comment</th>\n",
              "    </tr>\n",
              "  </thead>\n",
              "  <tbody>\n",
              "    <tr>\n",
              "      <th>0</th>\n",
              "      <td>Positive</td>\n",
              "      <td>if youre watching this congratulations youre t...</td>\n",
              "    </tr>\n",
              "    <tr>\n",
              "      <th>1</th>\n",
              "      <td>Positive</td>\n",
              "      <td>when you only have hours to study you waste th...</td>\n",
              "    </tr>\n",
              "    <tr>\n",
              "      <th>2</th>\n",
              "      <td>Negative</td>\n",
              "      <td>stop when tired stop when done</td>\n",
              "    </tr>\n",
              "    <tr>\n",
              "      <th>3</th>\n",
              "      <td>Neutral</td>\n",
              "      <td>my dad always told me if you dont believe in y...</td>\n",
              "    </tr>\n",
              "    <tr>\n",
              "      <th>4</th>\n",
              "      <td>Positive</td>\n",
              "      <td>me when am years old want to be doctor im stil...</td>\n",
              "    </tr>\n",
              "  </tbody>\n",
              "</table>\n",
              "</div>"
            ],
            "text/plain": [
              "  Sentiment                                            Comment\n",
              "0  Positive  if youre watching this congratulations youre t...\n",
              "1  Positive  when you only have hours to study you waste th...\n",
              "2  Negative                     stop when tired stop when done\n",
              "3   Neutral  my dad always told me if you dont believe in y...\n",
              "4  Positive  me when am years old want to be doctor im stil..."
            ]
          },
          "metadata": {
            "tags": []
          },
          "execution_count": 26
        }
      ]
    },
    {
      "cell_type": "code",
      "metadata": {
        "colab": {
          "base_uri": "https://localhost:8080/",
          "height": 206
        },
        "id": "yjZxGLlQC-9e",
        "outputId": "9d8ca1a8-fff9-4667-dfa8-a998ad6855b2"
      },
      "source": [
        "COMMENTS_DF = COMMENTS_DF.append(df_4)\n",
        "COMMENTS_DF.head()"
      ],
      "execution_count": null,
      "outputs": [
        {
          "output_type": "execute_result",
          "data": {
            "text/html": [
              "<div>\n",
              "<style scoped>\n",
              "    .dataframe tbody tr th:only-of-type {\n",
              "        vertical-align: middle;\n",
              "    }\n",
              "\n",
              "    .dataframe tbody tr th {\n",
              "        vertical-align: top;\n",
              "    }\n",
              "\n",
              "    .dataframe thead th {\n",
              "        text-align: right;\n",
              "    }\n",
              "</style>\n",
              "<table border=\"1\" class=\"dataframe\">\n",
              "  <thead>\n",
              "    <tr style=\"text-align: right;\">\n",
              "      <th></th>\n",
              "      <th>Sentiment</th>\n",
              "      <th>Comment</th>\n",
              "    </tr>\n",
              "  </thead>\n",
              "  <tbody>\n",
              "    <tr>\n",
              "      <th>0</th>\n",
              "      <td>Positive</td>\n",
              "      <td>if youre watching this congratulations youre t...</td>\n",
              "    </tr>\n",
              "    <tr>\n",
              "      <th>1</th>\n",
              "      <td>Positive</td>\n",
              "      <td>when you only have hours to study you waste th...</td>\n",
              "    </tr>\n",
              "    <tr>\n",
              "      <th>2</th>\n",
              "      <td>Negative</td>\n",
              "      <td>stop when tired stop when done</td>\n",
              "    </tr>\n",
              "    <tr>\n",
              "      <th>3</th>\n",
              "      <td>Neutral</td>\n",
              "      <td>my dad always told me if you dont believe in y...</td>\n",
              "    </tr>\n",
              "    <tr>\n",
              "      <th>4</th>\n",
              "      <td>Positive</td>\n",
              "      <td>me when am years old want to be doctor im stil...</td>\n",
              "    </tr>\n",
              "  </tbody>\n",
              "</table>\n",
              "</div>"
            ],
            "text/plain": [
              "  Sentiment                                            Comment\n",
              "0  Positive  if youre watching this congratulations youre t...\n",
              "1  Positive  when you only have hours to study you waste th...\n",
              "2  Negative                     stop when tired stop when done\n",
              "3   Neutral  my dad always told me if you dont believe in y...\n",
              "4  Positive  me when am years old want to be doctor im stil..."
            ]
          },
          "metadata": {
            "tags": []
          },
          "execution_count": 27
        }
      ]
    },
    {
      "cell_type": "code",
      "metadata": {
        "id": "od2phfIYDBWf"
      },
      "source": [
        "COMMENTS_DF.to_csv(\"youtubecomments.csv\")"
      ],
      "execution_count": null,
      "outputs": []
    },
    {
      "cell_type": "code",
      "metadata": {
        "id": "Mjer2W0jDJ_1"
      },
      "source": [
        "cleaned_data = pd.read_csv(\"youtubecomments.csv\")\n",
        "cleaned_data = cleaned_data.dropna()\n",
        "cleaned_data.drop('Unnamed: 0', axis=1, inplace=True)"
      ],
      "execution_count": null,
      "outputs": []
    },
    {
      "cell_type": "code",
      "metadata": {
        "colab": {
          "base_uri": "https://localhost:8080/",
          "height": 206
        },
        "id": "dWhES0u7DnvH",
        "outputId": "dd7f3a46-d838-4e45-ac34-8430d026e90d"
      },
      "source": [
        "cleaned_data.head()"
      ],
      "execution_count": null,
      "outputs": [
        {
          "output_type": "execute_result",
          "data": {
            "text/html": [
              "<div>\n",
              "<style scoped>\n",
              "    .dataframe tbody tr th:only-of-type {\n",
              "        vertical-align: middle;\n",
              "    }\n",
              "\n",
              "    .dataframe tbody tr th {\n",
              "        vertical-align: top;\n",
              "    }\n",
              "\n",
              "    .dataframe thead th {\n",
              "        text-align: right;\n",
              "    }\n",
              "</style>\n",
              "<table border=\"1\" class=\"dataframe\">\n",
              "  <thead>\n",
              "    <tr style=\"text-align: right;\">\n",
              "      <th></th>\n",
              "      <th>Sentiment</th>\n",
              "      <th>Comment</th>\n",
              "    </tr>\n",
              "  </thead>\n",
              "  <tbody>\n",
              "    <tr>\n",
              "      <th>0</th>\n",
              "      <td>Positive</td>\n",
              "      <td>if youre watching this congratulations youre t...</td>\n",
              "    </tr>\n",
              "    <tr>\n",
              "      <th>1</th>\n",
              "      <td>Positive</td>\n",
              "      <td>when you only have hours to study you waste th...</td>\n",
              "    </tr>\n",
              "    <tr>\n",
              "      <th>2</th>\n",
              "      <td>Negative</td>\n",
              "      <td>stop when tired stop when done</td>\n",
              "    </tr>\n",
              "    <tr>\n",
              "      <th>3</th>\n",
              "      <td>Neutral</td>\n",
              "      <td>my dad always told me if you dont believe in y...</td>\n",
              "    </tr>\n",
              "    <tr>\n",
              "      <th>4</th>\n",
              "      <td>Positive</td>\n",
              "      <td>me when am years old want to be doctor im stil...</td>\n",
              "    </tr>\n",
              "  </tbody>\n",
              "</table>\n",
              "</div>"
            ],
            "text/plain": [
              "  Sentiment                                            Comment\n",
              "0  Positive  if youre watching this congratulations youre t...\n",
              "1  Positive  when you only have hours to study you waste th...\n",
              "2  Negative                     stop when tired stop when done\n",
              "3   Neutral  my dad always told me if you dont believe in y...\n",
              "4  Positive  me when am years old want to be doctor im stil..."
            ]
          },
          "metadata": {
            "tags": []
          },
          "execution_count": 35
        }
      ]
    },
    {
      "cell_type": "code",
      "metadata": {
        "colab": {
          "base_uri": "https://localhost:8080/"
        },
        "id": "NCFlSRKbDofX",
        "outputId": "543cb9a8-e702-4cc3-d8ae-1ee57537b680"
      },
      "source": [
        "print(\"Total Entries:\",len(cleaned_data))"
      ],
      "execution_count": null,
      "outputs": [
        {
          "output_type": "stream",
          "text": [
            "Total Entries: 4315\n"
          ],
          "name": "stdout"
        }
      ]
    },
    {
      "cell_type": "markdown",
      "metadata": {
        "id": "W9OAq-S9EnhG"
      },
      "source": [
        "#**Preprocessing**"
      ]
    },
    {
      "cell_type": "code",
      "metadata": {
        "colab": {
          "base_uri": "https://localhost:8080/"
        },
        "id": "yfr6tkIyD0uF",
        "outputId": "d7f7aeff-06d3-471e-e983-9c7f742bc424"
      },
      "source": [
        "!pip install nltk"
      ],
      "execution_count": null,
      "outputs": [
        {
          "output_type": "stream",
          "text": [
            "Requirement already satisfied: nltk in /usr/local/lib/python3.6/dist-packages (3.2.5)\n",
            "Requirement already satisfied: six in /usr/local/lib/python3.6/dist-packages (from nltk) (1.15.0)\n"
          ],
          "name": "stdout"
        }
      ]
    },
    {
      "cell_type": "code",
      "metadata": {
        "colab": {
          "base_uri": "https://localhost:8080/"
        },
        "id": "5ynq0klbE5_a",
        "outputId": "1d2c0f61-c042-4bf1-ee2a-780d29906be0"
      },
      "source": [
        "import nltk\n",
        "nltk.download('punkt')"
      ],
      "execution_count": null,
      "outputs": [
        {
          "output_type": "stream",
          "text": [
            "[nltk_data] Downloading package punkt to /root/nltk_data...\n",
            "[nltk_data]   Unzipping tokenizers/punkt.zip.\n"
          ],
          "name": "stdout"
        },
        {
          "output_type": "execute_result",
          "data": {
            "text/plain": [
              "True"
            ]
          },
          "metadata": {
            "tags": []
          },
          "execution_count": 43
        }
      ]
    },
    {
      "cell_type": "markdown",
      "metadata": {
        "id": "aoxNLZWvFC0H"
      },
      "source": [
        "#**Tokenization**"
      ]
    },
    {
      "cell_type": "markdown",
      "metadata": {
        "id": "8NcquU0RFInk"
      },
      "source": [
        "![Screenshot_2021-01-06 Step by step building a multi-class text classification model with Keras.png](data:image/png;base64,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)"
      ]
    },
    {
      "cell_type": "code",
      "metadata": {
        "id": "Rlc9PuHCE17Z"
      },
      "source": [
        "text = \"I Play Football\""
      ],
      "execution_count": null,
      "outputs": []
    },
    {
      "cell_type": "code",
      "metadata": {
        "id": "uHOS4X3LEsk5"
      },
      "source": [
        "tokens = nltk.word_tokenize(text)"
      ],
      "execution_count": null,
      "outputs": []
    },
    {
      "cell_type": "code",
      "metadata": {
        "colab": {
          "base_uri": "https://localhost:8080/"
        },
        "id": "_ztaFrU0E4HO",
        "outputId": "bf59cfe0-2ca6-4cd9-8c07-d1cea1b38a15"
      },
      "source": [
        "tokens"
      ],
      "execution_count": null,
      "outputs": [
        {
          "output_type": "execute_result",
          "data": {
            "text/plain": [
              "['I', 'Play', 'Football']"
            ]
          },
          "metadata": {
            "tags": []
          },
          "execution_count": 46
        }
      ]
    },
    {
      "cell_type": "markdown",
      "metadata": {
        "id": "qfb6nk9gFauj"
      },
      "source": [
        "#**Removing Stop Words**"
      ]
    },
    {
      "cell_type": "code",
      "metadata": {
        "id": "wAwIGUhSFgJK"
      },
      "source": [
        "words = \"and is the of at\""
      ],
      "execution_count": null,
      "outputs": []
    },
    {
      "cell_type": "code",
      "metadata": {
        "colab": {
          "base_uri": "https://localhost:8080/"
        },
        "id": "vHGjcbDOE4o9",
        "outputId": "3d70a2cf-88a3-48fb-e08d-f88e6ece8f8d"
      },
      "source": [
        "from nltk.corpus import stopwords\n",
        "nltk.download('stopwords')\n",
        "stop_words = set(stopwords.words('english'))\n",
        "clean_sentence = [w for w in words if not w in stop_words]"
      ],
      "execution_count": null,
      "outputs": [
        {
          "output_type": "stream",
          "text": [
            "[nltk_data] Downloading package stopwords to /root/nltk_data...\n",
            "[nltk_data]   Package stopwords is already up-to-date!\n"
          ],
          "name": "stdout"
        }
      ]
    },
    {
      "cell_type": "code",
      "metadata": {
        "colab": {
          "base_uri": "https://localhost:8080/"
        },
        "id": "HH3jVmdMFlUi",
        "outputId": "e42168e3-a325-4bf7-e53f-348aab251680"
      },
      "source": [
        "clean_sentence"
      ],
      "execution_count": null,
      "outputs": [
        {
          "output_type": "execute_result",
          "data": {
            "text/plain": [
              "['n', ' ', ' ', 'h', 'e', ' ', 'f', ' ']"
            ]
          },
          "metadata": {
            "tags": []
          },
          "execution_count": 51
        }
      ]
    },
    {
      "cell_type": "markdown",
      "metadata": {
        "id": "4DwDu70pFzRh"
      },
      "source": [
        "![Screenshot_2021-01-06 Step by step building a multi-class text classification model with Keras.png](data:image/png;base64,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)"
      ]
    },
    {
      "cell_type": "markdown",
      "metadata": {
        "id": "0Y_FK_0BGQJq"
      },
      "source": [
        "#**Stemming and Lemmatization**"
      ]
    },
    {
      "cell_type": "markdown",
      "metadata": {
        "id": "KEoVwRvKGT65"
      },
      "source": [
        "![Screenshot_2021-01-06 Step by step building a multi-class text classification model with Keras.png](data:image/png;base64,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)"
      ]
    },
    {
      "cell_type": "code",
      "metadata": {
        "colab": {
          "base_uri": "https://localhost:8080/"
        },
        "id": "9C7C0u_qFpDr",
        "outputId": "f876e2c8-dad2-4e3c-caad-fb61b93ae169"
      },
      "source": [
        "from nltk.stem import WordNetLemmatizer\n",
        "from nltk.stem import PorterStemmer\n",
        "\n",
        "nltk.download('wordnet')\n",
        "nltk.download('averaged_perceptron_tagger')\n",
        "nltk.download('gutenberg')"
      ],
      "execution_count": null,
      "outputs": [
        {
          "output_type": "stream",
          "text": [
            "[nltk_data] Downloading package wordnet to /root/nltk_data...\n",
            "[nltk_data]   Package wordnet is already up-to-date!\n",
            "[nltk_data] Downloading package averaged_perceptron_tagger to\n",
            "[nltk_data]     /root/nltk_data...\n",
            "[nltk_data]   Unzipping taggers/averaged_perceptron_tagger.zip.\n",
            "[nltk_data] Downloading package gutenberg to /root/nltk_data...\n",
            "[nltk_data]   Package gutenberg is already up-to-date!\n"
          ],
          "name": "stdout"
        },
        {
          "output_type": "execute_result",
          "data": {
            "text/plain": [
              "True"
            ]
          },
          "metadata": {
            "tags": []
          },
          "execution_count": 55
        }
      ]
    },
    {
      "cell_type": "code",
      "metadata": {
        "colab": {
          "base_uri": "https://localhost:8080/",
          "height": 35
        },
        "id": "UKugLWT-G90d",
        "outputId": "22e5922c-0865-4747-bbf2-7d597002d5b1"
      },
      "source": [
        "text"
      ],
      "execution_count": 68,
      "outputs": [
        {
          "output_type": "execute_result",
          "data": {
            "application/vnd.google.colaboratory.intrinsic+json": {
              "type": "string"
            },
            "text/plain": [
              "'I Play Football'"
            ]
          },
          "metadata": {
            "tags": []
          },
          "execution_count": 68
        }
      ]
    },
    {
      "cell_type": "code",
      "metadata": {
        "colab": {
          "base_uri": "https://localhost:8080/",
          "height": 35
        },
        "id": "q8mM2T1fGmFW",
        "outputId": "8b89fa73-7170-49df-f0f5-fc39ca81cf1d"
      },
      "source": [
        "stemmer = PorterStemmer()\n",
        "stemmer.stem(text)"
      ],
      "execution_count": null,
      "outputs": [
        {
          "output_type": "execute_result",
          "data": {
            "application/vnd.google.colaboratory.intrinsic+json": {
              "type": "string"
            },
            "text/plain": [
              "'i play footbal'"
            ]
          },
          "metadata": {
            "tags": []
          },
          "execution_count": 57
        }
      ]
    },
    {
      "cell_type": "code",
      "metadata": {
        "colab": {
          "base_uri": "https://localhost:8080/",
          "height": 35
        },
        "id": "Iw7pys-HHBhS",
        "outputId": "0007c14a-4863-4e8f-85e0-b151cc6f60f1"
      },
      "source": [
        "word_lemmatizer = WordNetLemmatizer()\n",
        "word_lemmatizer.lemmatize(text)"
      ],
      "execution_count": null,
      "outputs": [
        {
          "output_type": "execute_result",
          "data": {
            "application/vnd.google.colaboratory.intrinsic+json": {
              "type": "string"
            },
            "text/plain": [
              "'I Play Football'"
            ]
          },
          "metadata": {
            "tags": []
          },
          "execution_count": 58
        }
      ]
    },
    {
      "cell_type": "markdown",
      "metadata": {
        "id": "dw0IuPM1HjHU"
      },
      "source": [
        "#**Extra Proprecessing**"
      ]
    },
    {
      "cell_type": "code",
      "metadata": {
        "colab": {
          "base_uri": "https://localhost:8080/"
        },
        "id": "lI5Ptop1HxdT",
        "outputId": "7dae2e75-a3b6-42e6-c222-12db53407b63"
      },
      "source": [
        "sentence = \"@folli https://google.com this is the website we use muhammadhanan@gmail.com\"\n",
        "print(sentence)"
      ],
      "execution_count": null,
      "outputs": [
        {
          "output_type": "stream",
          "text": [
            "@folli https://google.com this is the website we use muhammadhanan@gmail.com\n"
          ],
          "name": "stdout"
        }
      ]
    },
    {
      "cell_type": "code",
      "metadata": {
        "id": "KfN0qcnPHuzJ"
      },
      "source": [
        "import re"
      ],
      "execution_count": null,
      "outputs": []
    },
    {
      "cell_type": "code",
      "metadata": {
        "id": "6ZAMORu6HKhX"
      },
      "source": [
        "emails = '[A-Za-z0-9]+@[a-zA-z].[a-zA-Z]+'\n",
        "websites = '(http[s]*:[/][/])[a-zA-Z0-9]+'\n",
        "mentions = '@[A-Za-z0-9]+'\n",
        "sentence = re.sub(emails, '', sentence)\n",
        "sentence = re.sub(websites, '', sentence)\n",
        "sentence = re.sub(mentions, '', sentence)"
      ],
      "execution_count": null,
      "outputs": []
    },
    {
      "cell_type": "code",
      "metadata": {
        "colab": {
          "base_uri": "https://localhost:8080/",
          "height": 35
        },
        "id": "fzZ7aH1GHtJY",
        "outputId": "b580226b-2725-44d1-abf9-f480e262b0b1"
      },
      "source": [
        "sentence"
      ],
      "execution_count": null,
      "outputs": [
        {
          "output_type": "execute_result",
          "data": {
            "application/vnd.google.colaboratory.intrinsic+json": {
              "type": "string"
            },
            "text/plain": [
              "' .com this is the website we use .com'"
            ]
          },
          "metadata": {
            "tags": []
          },
          "execution_count": 65
        }
      ]
    },
    {
      "cell_type": "markdown",
      "metadata": {
        "id": "B1JahygCIv3H"
      },
      "source": [
        "#**Models**"
      ]
    },
    {
      "cell_type": "markdown",
      "metadata": {
        "id": "N8SveWXcIyxz"
      },
      "source": [
        "![Screenshot_2021-01-06 Step by step building a multi-class text classification model with Keras.png](data:image/png;base64,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)"
      ]
    },
    {
      "cell_type": "markdown",
      "metadata": {
        "id": "seOca6QoJAIe"
      },
      "source": [
        "![Screenshot_2021-01-06 Step by step building a multi-class text classification model with Keras.png](data:image/png;base64,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)"
      ]
    },
    {
      "cell_type": "code",
      "metadata": {
        "id": "UE-IDRBCH-wx"
      },
      "source": [
        "!pip install spacy\n",
        "!python -m spacy download en_core_web_lg"
      ],
      "execution_count": null,
      "outputs": []
    },
    {
      "cell_type": "code",
      "metadata": {
        "id": "ugvqHs70YvHZ"
      },
      "source": [
        "import numpy as np\n",
        "import spacy\n",
        "\n",
        "\n",
        "spacy.prefer_gpu()\n",
        "nlp = spacy.load(\"en_core_web_sm\")"
      ],
      "execution_count": 83,
      "outputs": []
    },
    {
      "cell_type": "code",
      "metadata": {
        "id": "O3nMQl5qLZ_h"
      },
      "source": [
        "from tensorflow.keras.preprocessing.text import Tokenizer\n",
        "\n",
        "tokenizer = Tokenizer(num_words=100000)\n",
        "tokenizer.fit_on_texts(cleaned_data['Comment'].values)\n",
        "word_index = tokenizer.word_index"
      ],
      "execution_count": 91,
      "outputs": []
    },
    {
      "cell_type": "code",
      "metadata": {
        "colab": {
          "base_uri": "https://localhost:8080/"
        },
        "id": "p-Djfq2_bhC1",
        "outputId": "480640b3-eb20-4d75-de87-ffd8a140206e"
      },
      "source": [
        "len(word_index)"
      ],
      "execution_count": 96,
      "outputs": [
        {
          "output_type": "execute_result",
          "data": {
            "text/plain": [
              "5740"
            ]
          },
          "metadata": {
            "tags": []
          },
          "execution_count": 96
        }
      ]
    },
    {
      "cell_type": "code",
      "metadata": {
        "id": "bsxyvfiPYlSm"
      },
      "source": [
        "text_embedding = np.zeros((len(word_index) + 1, 96))\n",
        "id = 0\n",
        "for word, i in word_index.items():\n",
        "   text_embedding[i] = nlp(word).vector\n",
        "   print(\"> Stage:\",id)\n",
        "   id += 1"
      ],
      "execution_count": null,
      "outputs": []
    },
    {
      "cell_type": "markdown",
      "metadata": {
        "id": "f5DhFmofb9-M"
      },
      "source": [
        "#**Let's Build Our Model**"
      ]
    },
    {
      "cell_type": "code",
      "metadata": {
        "id": "k6Vq5Pruao81"
      },
      "source": [
        "from tensorflow.keras.models import Sequential,Model\n",
        "from tensorflow.keras.layers import Dense, LSTM, Embedding,Dropout,SpatialDropout1D,Conv1D,MaxPooling1D,GRU,BatchNormalization\n",
        "from tensorflow.keras.layers import Flatten,Input,Bidirectional,GlobalAveragePooling1D,GlobalMaxPooling1D,concatenate,LeakyReLU\n",
        "from tensorflow.keras import regularizers\n",
        "from tensorflow.keras import backend as K"
      ],
      "execution_count": 154,
      "outputs": []
    },
    {
      "cell_type": "code",
      "metadata": {
        "colab": {
          "base_uri": "https://localhost:8080/"
        },
        "id": "kqhIckvqecMC",
        "outputId": "1ab9ed0c-d708-46d4-a9c4-fc770c38f367"
      },
      "source": [
        "cleaned_data.Sentiment.unique()"
      ],
      "execution_count": 103,
      "outputs": [
        {
          "output_type": "execute_result",
          "data": {
            "text/plain": [
              "array(['Positive', 'Negative', 'Neutral'], dtype=object)"
            ]
          },
          "metadata": {
            "tags": []
          },
          "execution_count": 103
        }
      ]
    },
    {
      "cell_type": "code",
      "metadata": {
        "colab": {
          "base_uri": "https://localhost:8080/"
        },
        "id": "mdlxSn96cCrJ",
        "outputId": "a1ce127d-456b-4968-93fe-15ebab7cba1f"
      },
      "source": [
        "print(\"Shape of Our Embedings Is:\", text_embedding.shape)"
      ],
      "execution_count": 102,
      "outputs": [
        {
          "output_type": "stream",
          "text": [
            "Shape of Our Embedings Is: (5741, 96)\n"
          ],
          "name": "stdout"
        }
      ]
    },
    {
      "cell_type": "code",
      "metadata": {
        "id": "xcb3RV2vgICK"
      },
      "source": [
        "MAX_SEQUENCE_LENGTH = 300\n",
        "lstm_units = 100\n",
        "kernel_size = 3"
      ],
      "execution_count": 113,
      "outputs": []
    },
    {
      "cell_type": "code",
      "metadata": {
        "id": "o8W09TiBcTsW"
      },
      "source": [
        "model = Sequential()\n",
        "# Embedding Layer or Input Layer\n",
        "model.add(Embedding(input_dim=text_embedding.shape[0], \n",
        "                    output_dim=text_embedding.shape[1],\n",
        "                    weights=[text_embedding],\n",
        "                    input_length=MAX_SEQUENCE_LENGTH,\n",
        "                    trainable=False))\n",
        "model.add(SpatialDropout1D(0.5))\n",
        "\n",
        "# Hidden Layer with Pooling Layer(Block 1)\n",
        "model.add(Conv1D(32, \n",
        "                 kernel_size=kernel_size,\n",
        "                 kernel_regularizer=regularizers.l2(0.00001), \n",
        "                 padding='same'))\n",
        "model.add(LeakyReLU(alpha=0.2))\n",
        "model.add(MaxPooling1D(pool_size=2))\n",
        "\n",
        "# LSTM Layer\n",
        "model.add(Bidirectional(LSTM(lstm_units,\n",
        "                             dropout=0.5, \n",
        "                             recurrent_dropout=0.5,\n",
        "                             return_sequences=True)))\n",
        "\n",
        "model.add(SpatialDropout1D(0.5))\n",
        "\n",
        "# Another Hidden Layer With Pooling Layer(Block 2)\n",
        "model.add(Conv1D(64, \n",
        "                 kernel_size=kernel_size,\n",
        "                 kernel_regularizer=regularizers.l2(0.00001), \n",
        "                 padding='same'))\n",
        "model.add(LeakyReLU(alpha=0.2))\n",
        "model.add(MaxPooling1D(pool_size=2))\n",
        "\n",
        "# Another LSTM Layer\n",
        "model.add(Bidirectional(LSTM(lstm_units,\n",
        "                             dropout=0.5, \n",
        "                             recurrent_dropout=0.5,\n",
        "                             return_sequences=True)))\n",
        "model.add(SpatialDropout1D(0.5))\n",
        "\n",
        "# Another Hidden Layer With Pooling Layer(Block 3)\n",
        "model.add(Conv1D(128, \n",
        "                 kernel_size=kernel_size,\n",
        "                 kernel_regularizer=regularizers.l2(0.00001), \n",
        "                 padding='same'))\n",
        "model.add(LeakyReLU(alpha=0.2))\n",
        "model.add(MaxPooling1D(pool_size=2))\n",
        "\n",
        "# Another LSTM Layer\n",
        "model.add(Bidirectional(LSTM(lstm_units,\n",
        "                             dropout=0.5, \n",
        "                             recurrent_dropout=0.5,\n",
        "                             return_sequences=True)))\n",
        "model.add(SpatialDropout1D(0.5))\n",
        "\n",
        "model.add(Flatten())\n",
        "# Output Layer\n",
        "model.add(Dense(3,activation='softmax'))\n",
        "\n",
        "model.compile(optimizer='adam',\n",
        "              loss='categorical_crossentropy', \n",
        "              metrics=['accuracy'])"
      ],
      "execution_count": 159,
      "outputs": []
    },
    {
      "cell_type": "code",
      "metadata": {
        "colab": {
          "base_uri": "https://localhost:8080/"
        },
        "id": "dPpnzafGek-z",
        "outputId": "ae538107-f9f9-4b72-8895-c3093d4cb080"
      },
      "source": [
        "model.summary()"
      ],
      "execution_count": 160,
      "outputs": [
        {
          "output_type": "stream",
          "text": [
            "Model: \"sequential_12\"\n",
            "_________________________________________________________________\n",
            "Layer (type)                 Output Shape              Param #   \n",
            "=================================================================\n",
            "embedding_10 (Embedding)     (None, 300, 96)           551136    \n",
            "_________________________________________________________________\n",
            "spatial_dropout1d_29 (Spatia (None, 300, 96)           0         \n",
            "_________________________________________________________________\n",
            "conv1d_22 (Conv1D)           (None, 300, 32)           9248      \n",
            "_________________________________________________________________\n",
            "leaky_re_lu_20 (LeakyReLU)   (None, 300, 32)           0         \n",
            "_________________________________________________________________\n",
            "max_pooling1d_19 (MaxPooling (None, 150, 32)           0         \n",
            "_________________________________________________________________\n",
            "bidirectional_19 (Bidirectio (None, 150, 200)          106400    \n",
            "_________________________________________________________________\n",
            "spatial_dropout1d_30 (Spatia (None, 150, 200)          0         \n",
            "_________________________________________________________________\n",
            "conv1d_23 (Conv1D)           (None, 150, 64)           38464     \n",
            "_________________________________________________________________\n",
            "leaky_re_lu_21 (LeakyReLU)   (None, 150, 64)           0         \n",
            "_________________________________________________________________\n",
            "max_pooling1d_20 (MaxPooling (None, 75, 64)            0         \n",
            "_________________________________________________________________\n",
            "bidirectional_20 (Bidirectio (None, 75, 200)           132000    \n",
            "_________________________________________________________________\n",
            "spatial_dropout1d_31 (Spatia (None, 75, 200)           0         \n",
            "_________________________________________________________________\n",
            "conv1d_24 (Conv1D)           (None, 75, 128)           76928     \n",
            "_________________________________________________________________\n",
            "leaky_re_lu_22 (LeakyReLU)   (None, 75, 128)           0         \n",
            "_________________________________________________________________\n",
            "max_pooling1d_21 (MaxPooling (None, 37, 128)           0         \n",
            "_________________________________________________________________\n",
            "bidirectional_21 (Bidirectio (None, 37, 200)           183200    \n",
            "_________________________________________________________________\n",
            "spatial_dropout1d_32 (Spatia (None, 37, 200)           0         \n",
            "_________________________________________________________________\n",
            "flatten_1 (Flatten)          (None, 7400)              0         \n",
            "_________________________________________________________________\n",
            "dense_7 (Dense)              (None, 3)                 22203     \n",
            "=================================================================\n",
            "Total params: 1,119,579\n",
            "Trainable params: 568,443\n",
            "Non-trainable params: 551,136\n",
            "_________________________________________________________________\n"
          ],
          "name": "stdout"
        }
      ]
    },
    {
      "cell_type": "markdown",
      "metadata": {
        "id": "mXC7UTOyg5mp"
      },
      "source": [
        "#**Labels Preprocessing**"
      ]
    },
    {
      "cell_type": "code",
      "metadata": {
        "id": "8b0t8lMjgm54"
      },
      "source": [
        "from sklearn.model_selection import train_test_split\n",
        "from tensorflow.keras.utils import to_categorical\n",
        "from sklearn.preprocessing import LabelEncoder\n",
        "from tensorflow.keras.preprocessing import sequence"
      ],
      "execution_count": 130,
      "outputs": []
    },
    {
      "cell_type": "code",
      "metadata": {
        "id": "BmKcnZc2hFll"
      },
      "source": [
        "texts = cleaned_data.Comment.values\n",
        "labels = cleaned_data.Sentiment.values"
      ],
      "execution_count": 122,
      "outputs": []
    },
    {
      "cell_type": "code",
      "metadata": {
        "colab": {
          "base_uri": "https://localhost:8080/"
        },
        "id": "x6SzWggthQv3",
        "outputId": "eafabe38-6993-495f-dc51-8aa583710afb"
      },
      "source": [
        "print(\"Number of Classes:\",len(cleaned_data.Sentiment.unique()))"
      ],
      "execution_count": 123,
      "outputs": [
        {
          "output_type": "stream",
          "text": [
            "Number of Classes: 3\n"
          ],
          "name": "stdout"
        }
      ]
    },
    {
      "cell_type": "code",
      "metadata": {
        "id": "Wn0wN2eOhIZH"
      },
      "source": [
        "le = LabelEncoder()\n",
        "labels_enc = le.fit_transform(labels)\n",
        "labels_res = labels_enc.reshape(-1, 1)\n",
        "categorical_labels = to_categorical(labels_res,num_classes=3)"
      ],
      "execution_count": 135,
      "outputs": []
    },
    {
      "cell_type": "code",
      "metadata": {
        "colab": {
          "base_uri": "https://localhost:8080/"
        },
        "id": "GU-SAEpjhziw",
        "outputId": "a4b243ff-4883-43d2-a368-38e740989795"
      },
      "source": [
        "categorical_labels"
      ],
      "execution_count": 136,
      "outputs": [
        {
          "output_type": "execute_result",
          "data": {
            "text/plain": [
              "array([[0., 0., 1.],\n",
              "       [0., 0., 1.],\n",
              "       [1., 0., 0.],\n",
              "       ...,\n",
              "       [0., 0., 1.],\n",
              "       [1., 0., 0.],\n",
              "       [1., 0., 0.]], dtype=float32)"
            ]
          },
          "metadata": {
            "tags": []
          },
          "execution_count": 136
        }
      ]
    },
    {
      "cell_type": "code",
      "metadata": {
        "id": "9syM8ROkhhVU"
      },
      "source": [
        "X_train, X_test, Y_train, Y_test = train_test_split(texts, categorical_labels, test_size=0.2)"
      ],
      "execution_count": 137,
      "outputs": []
    },
    {
      "cell_type": "code",
      "metadata": {
        "colab": {
          "base_uri": "https://localhost:8080/"
        },
        "id": "u6FkDIyykKsB",
        "outputId": "e690e3f1-2bfe-4e61-c07f-f1bab335e0b1"
      },
      "source": [
        "print(X_train.shape)"
      ],
      "execution_count": 147,
      "outputs": [
        {
          "output_type": "stream",
          "text": [
            "(3452,)\n"
          ],
          "name": "stdout"
        }
      ]
    },
    {
      "cell_type": "code",
      "metadata": {
        "colab": {
          "base_uri": "https://localhost:8080/"
        },
        "id": "REW_rNs9l6k8",
        "outputId": "6e969a3b-0c8c-4be5-9c0d-4d15f9a0bc33"
      },
      "source": [
        "print(Y_train.shape)"
      ],
      "execution_count": 148,
      "outputs": [
        {
          "output_type": "stream",
          "text": [
            "(3452, 3)\n"
          ],
          "name": "stdout"
        }
      ]
    },
    {
      "cell_type": "code",
      "metadata": {
        "colab": {
          "base_uri": "https://localhost:8080/"
        },
        "id": "N67dfrual6om",
        "outputId": "74c76c4f-99cd-4a54-e05c-0d139f975f31"
      },
      "source": [
        "print(X_test.shape)"
      ],
      "execution_count": 149,
      "outputs": [
        {
          "output_type": "stream",
          "text": [
            "(863,)\n"
          ],
          "name": "stdout"
        }
      ]
    },
    {
      "cell_type": "code",
      "metadata": {
        "colab": {
          "base_uri": "https://localhost:8080/"
        },
        "id": "LYDmJIdCl6rd",
        "outputId": "2f0d231a-a232-49fe-a851-dc80ed742d70"
      },
      "source": [
        "print(Y_test.shape)"
      ],
      "execution_count": 150,
      "outputs": [
        {
          "output_type": "stream",
          "text": [
            "(863, 3)\n"
          ],
          "name": "stdout"
        }
      ]
    },
    {
      "cell_type": "markdown",
      "metadata": {
        "id": "doicAMtih-jU"
      },
      "source": [
        "#**Sequences**"
      ]
    },
    {
      "cell_type": "code",
      "metadata": {
        "id": "n3X-iIwnh3D_"
      },
      "source": [
        "X_train_sequences = sequence.pad_sequences(tokenizer.texts_to_sequences(X_train),maxlen=MAX_SEQUENCE_LENGTH)"
      ],
      "execution_count": 138,
      "outputs": []
    },
    {
      "cell_type": "code",
      "metadata": {
        "id": "A7CG4jHDiK4l"
      },
      "source": [
        "X_test_sequences = sequence.pad_sequences(tokenizer.texts_to_sequences(X_test),maxlen=MAX_SEQUENCE_LENGTH)"
      ],
      "execution_count": 139,
      "outputs": []
    },
    {
      "cell_type": "markdown",
      "metadata": {
        "id": "N6hfYLGCi-qO"
      },
      "source": [
        "#**Callbacks**"
      ]
    },
    {
      "cell_type": "code",
      "metadata": {
        "id": "P7B81GoCjBHM"
      },
      "source": [
        "from keras.callbacks import ModelCheckpoint, EarlyStopping\n",
        "checkpoint = ModelCheckpoint(\"/content/classifier.h5\",\n",
        "                             monitor=\"val_loss\",\n",
        "                             mode=\"min\",\n",
        "                             save_best_only=True,\n",
        "                             verbose = 1)\n",
        "earlystop = EarlyStopping(monitor=\"val_loss\",\n",
        "                         min_delta=0,\n",
        "                         patience=3,\n",
        "                         verbose=1,\n",
        "                         restore_best_weights=True)\n",
        "callbacks = [earlystop, checkpoint]"
      ],
      "execution_count": 162,
      "outputs": []
    },
    {
      "cell_type": "code",
      "metadata": {
        "colab": {
          "base_uri": "https://localhost:8080/"
        },
        "id": "Jqt6-ITpiT1j",
        "outputId": "ee2dfeb0-6995-450e-d960-944869395c0a"
      },
      "source": [
        "model.fit(X_train_sequences,\n",
        "          Y_train,\n",
        "          batch_size=32,\n",
        "          epochs=25,\n",
        "          validation_data=(X_test_sequences, Y_test),\n",
        "          callbacks=callbacks,\n",
        "          shuffle=True)"
      ],
      "execution_count": 163,
      "outputs": [
        {
          "output_type": "stream",
          "text": [
            "Epoch 1/30\n",
            "108/108 [==============================] - 136s 1s/step - loss: 0.9670 - accuracy: 0.5152 - val_loss: 0.9373 - val_accuracy: 0.5191\n",
            "\n",
            "Epoch 00001: val_loss improved from inf to 0.93727, saving model to /content/classifier.h5\n",
            "Epoch 2/30\n",
            "108/108 [==============================] - 119s 1s/step - loss: 0.9281 - accuracy: 0.5642 - val_loss: 0.8651 - val_accuracy: 0.6107\n",
            "\n",
            "Epoch 00002: val_loss improved from 0.93727 to 0.86508, saving model to /content/classifier.h5\n",
            "Epoch 3/30\n",
            "108/108 [==============================] - 120s 1s/step - loss: 0.9126 - accuracy: 0.5850 - val_loss: 0.8537 - val_accuracy: 0.6408\n",
            "\n",
            "Epoch 00003: val_loss improved from 0.86508 to 0.85374, saving model to /content/classifier.h5\n",
            "Epoch 4/30\n",
            "108/108 [==============================] - 120s 1s/step - loss: 0.8784 - accuracy: 0.6202 - val_loss: 0.7837 - val_accuracy: 0.6837\n",
            "\n",
            "Epoch 00004: val_loss improved from 0.85374 to 0.78374, saving model to /content/classifier.h5\n",
            "Epoch 5/30\n",
            "108/108 [==============================] - 120s 1s/step - loss: 0.8738 - accuracy: 0.6180 - val_loss: 0.7885 - val_accuracy: 0.6860\n",
            "\n",
            "Epoch 00005: val_loss did not improve from 0.78374\n",
            "Epoch 6/30\n",
            "108/108 [==============================] - 120s 1s/step - loss: 0.8521 - accuracy: 0.6425 - val_loss: 0.7758 - val_accuracy: 0.6999\n",
            "\n",
            "Epoch 00006: val_loss improved from 0.78374 to 0.77582, saving model to /content/classifier.h5\n",
            "Epoch 7/30\n",
            "108/108 [==============================] - 119s 1s/step - loss: 0.8222 - accuracy: 0.6662 - val_loss: 0.7573 - val_accuracy: 0.6779\n",
            "\n",
            "Epoch 00007: val_loss improved from 0.77582 to 0.75727, saving model to /content/classifier.h5\n",
            "Epoch 8/30\n",
            "108/108 [==============================] - 120s 1s/step - loss: 0.8059 - accuracy: 0.6666 - val_loss: 0.7312 - val_accuracy: 0.6999\n",
            "\n",
            "Epoch 00008: val_loss improved from 0.75727 to 0.73121, saving model to /content/classifier.h5\n",
            "Epoch 9/30\n",
            "108/108 [==============================] - 119s 1s/step - loss: 0.7938 - accuracy: 0.6895 - val_loss: 0.7075 - val_accuracy: 0.7242\n",
            "\n",
            "Epoch 00009: val_loss improved from 0.73121 to 0.70751, saving model to /content/classifier.h5\n",
            "Epoch 10/30\n",
            "108/108 [==============================] - 121s 1s/step - loss: 0.7704 - accuracy: 0.6951 - val_loss: 0.7536 - val_accuracy: 0.6871\n",
            "\n",
            "Epoch 00010: val_loss did not improve from 0.70751\n",
            "Epoch 11/30\n",
            "108/108 [==============================] - 120s 1s/step - loss: 0.7508 - accuracy: 0.7071 - val_loss: 0.6737 - val_accuracy: 0.7509\n",
            "\n",
            "Epoch 00011: val_loss improved from 0.70751 to 0.67369, saving model to /content/classifier.h5\n",
            "Epoch 12/30\n",
            "108/108 [==============================] - 120s 1s/step - loss: 0.7598 - accuracy: 0.7094 - val_loss: 0.6774 - val_accuracy: 0.7462\n",
            "\n",
            "Epoch 00012: val_loss did not improve from 0.67369\n",
            "Epoch 13/30\n",
            "108/108 [==============================] - 120s 1s/step - loss: 0.7535 - accuracy: 0.7151 - val_loss: 0.6804 - val_accuracy: 0.7486\n",
            "\n",
            "Epoch 00013: val_loss did not improve from 0.67369\n",
            "Epoch 14/30\n",
            "108/108 [==============================] - 120s 1s/step - loss: 0.7401 - accuracy: 0.7054 - val_loss: 0.6918 - val_accuracy: 0.7393\n",
            "Restoring model weights from the end of the best epoch.\n",
            "\n",
            "Epoch 00014: val_loss did not improve from 0.67369\n",
            "Epoch 00014: early stopping\n"
          ],
          "name": "stdout"
        },
        {
          "output_type": "execute_result",
          "data": {
            "text/plain": [
              "<tensorflow.python.keras.callbacks.History at 0x7f69ae0db588>"
            ]
          },
          "metadata": {
            "tags": []
          },
          "execution_count": 163
        }
      ]
    },
    {
      "cell_type": "code",
      "metadata": {
        "id": "TGdlwrUXvUD1"
      },
      "source": [
        "stro = \"stick with god sometimes could be hard to do b...\""
      ],
      "execution_count": 192,
      "outputs": []
    },
    {
      "cell_type": "code",
      "metadata": {
        "colab": {
          "base_uri": "https://localhost:8080/"
        },
        "id": "grkBNjIsvj_X",
        "outputId": "004350fe-6084-43c0-9c60-7e13c16c7a51"
      },
      "source": [
        "print(stro.split())"
      ],
      "execution_count": 193,
      "outputs": [
        {
          "output_type": "stream",
          "text": [
            "['stick', 'with', 'god', 'sometimes', 'could', 'be', 'hard', 'to', 'do', 'b...']\n"
          ],
          "name": "stdout"
        }
      ]
    },
    {
      "cell_type": "code",
      "metadata": {
        "id": "2HUfxqL1vg1d"
      },
      "source": [
        "data = stro\n",
        "table = str.maketrans('', '', string.punctuation)\n",
        "desc = data.split()\n",
        "desc = [word.lower() for word in desc]\n",
        "desc = [w.translate(table) for w in desc]\n",
        "desc = [word for word in desc if len(word)>1]\n",
        "desc = [word for word in desc if word.isalpha()]\n",
        "data = ' '.join(desc)"
      ],
      "execution_count": 194,
      "outputs": []
    },
    {
      "cell_type": "code",
      "metadata": {
        "colab": {
          "base_uri": "https://localhost:8080/"
        },
        "id": "qSXyuQ9EwDxD",
        "outputId": "65ea6a2e-ae0c-4d30-a61f-4fdd4a4f08b6"
      },
      "source": [
        "print(data)"
      ],
      "execution_count": 195,
      "outputs": [
        {
          "output_type": "stream",
          "text": [
            "stick with god sometimes could be hard to do\n"
          ],
          "name": "stdout"
        }
      ]
    },
    {
      "cell_type": "code",
      "metadata": {
        "id": "X2LV8_ewuv3m"
      },
      "source": [
        "input = sequence.pad_sequences(tokenizer.texts_to_sequences(data),maxlen=MAX_SEQUENCE_LENGTH)"
      ],
      "execution_count": 196,
      "outputs": []
    },
    {
      "cell_type": "code",
      "metadata": {
        "colab": {
          "base_uri": "https://localhost:8080/"
        },
        "id": "H3nurhWejFFy",
        "outputId": "7e338881-ba77-47d6-cf69-ef95764ff3ee"
      },
      "source": [
        "result = model.predict(input)\n",
        "print(\"result: \", np.argmax(result),\"\\n\")"
      ],
      "execution_count": 197,
      "outputs": [
        {
          "output_type": "stream",
          "text": [
            "result:  1 \n",
            "\n"
          ],
          "name": "stdout"
        }
      ]
    },
    {
      "cell_type": "code",
      "metadata": {
        "colab": {
          "base_uri": "https://localhost:8080/"
        },
        "id": "CpSSdu3Pu5Bw",
        "outputId": "f746cfcd-de39-43ee-8ddf-5fb8466b3177"
      },
      "source": [
        "result"
      ],
      "execution_count": 198,
      "outputs": [
        {
          "output_type": "execute_result",
          "data": {
            "text/plain": [
              "array([[0.08796623, 0.7475311 , 0.16450265],\n",
              "       [0.08796623, 0.7475311 , 0.16450265],\n",
              "       [0.08796623, 0.7475311 , 0.16450265],\n",
              "       [0.08796623, 0.7475311 , 0.16450265],\n",
              "       [0.08796623, 0.7475311 , 0.16450265],\n",
              "       [0.08796623, 0.7475311 , 0.16450265],\n",
              "       [0.08796623, 0.7475311 , 0.16450265],\n",
              "       [0.08796623, 0.7475311 , 0.16450265],\n",
              "       [0.08796623, 0.7475311 , 0.16450265],\n",
              "       [0.08796623, 0.7475311 , 0.16450265],\n",
              "       [0.08796623, 0.7475311 , 0.16450265],\n",
              "       [0.08796623, 0.7475311 , 0.16450265],\n",
              "       [0.08796623, 0.7475311 , 0.16450265],\n",
              "       [0.08796623, 0.7475311 , 0.16450265],\n",
              "       [0.08796623, 0.7475311 , 0.16450265],\n",
              "       [0.08796623, 0.7475311 , 0.16450265],\n",
              "       [0.08796623, 0.7475311 , 0.16450265],\n",
              "       [0.08796623, 0.7475311 , 0.16450265],\n",
              "       [0.08796623, 0.7475311 , 0.16450265],\n",
              "       [0.08796623, 0.7475311 , 0.16450265],\n",
              "       [0.08796623, 0.7475311 , 0.16450265],\n",
              "       [0.08796623, 0.7475311 , 0.16450265],\n",
              "       [0.08796623, 0.7475311 , 0.16450265],\n",
              "       [0.08796623, 0.7475311 , 0.16450265],\n",
              "       [0.08796623, 0.7475311 , 0.16450265],\n",
              "       [0.08796623, 0.7475311 , 0.16450265],\n",
              "       [0.08796623, 0.7475311 , 0.16450265],\n",
              "       [0.08796623, 0.7475311 , 0.16450265],\n",
              "       [0.08796623, 0.7475311 , 0.16450265],\n",
              "       [0.08796623, 0.7475311 , 0.16450265],\n",
              "       [0.08796623, 0.7475311 , 0.16450265],\n",
              "       [0.08796623, 0.7475311 , 0.16450265],\n",
              "       [0.08796623, 0.7475311 , 0.16450265],\n",
              "       [0.08796623, 0.7475311 , 0.16450265],\n",
              "       [0.08796623, 0.7475311 , 0.16450265],\n",
              "       [0.08796623, 0.7475311 , 0.16450265],\n",
              "       [0.08796623, 0.7475311 , 0.16450265],\n",
              "       [0.08796623, 0.7475311 , 0.16450265],\n",
              "       [0.08796623, 0.7475311 , 0.16450265],\n",
              "       [0.08796623, 0.7475311 , 0.16450265],\n",
              "       [0.08796623, 0.7475311 , 0.16450265],\n",
              "       [0.08796623, 0.7475311 , 0.16450265],\n",
              "       [0.08796623, 0.7475311 , 0.16450265],\n",
              "       [0.08796623, 0.7475311 , 0.16450265]], dtype=float32)"
            ]
          },
          "metadata": {
            "tags": []
          },
          "execution_count": 198
        }
      ]
    },
    {
      "cell_type": "code",
      "metadata": {
        "id": "-MPMYDgnu-Lf"
      },
      "source": [
        ""
      ],
      "execution_count": null,
      "outputs": []
    }
  ]
}